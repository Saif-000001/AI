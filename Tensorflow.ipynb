{
 "cells": [
  {
   "cell_type": "code",
   "execution_count": 1,
   "id": "7f4c051c-cdd3-4dda-9d7e-c1f682ee89af",
   "metadata": {},
   "outputs": [
    {
     "name": "stderr",
     "output_type": "stream",
     "text": [
      "2024-02-25 19:17:57.817597: E external/local_xla/xla/stream_executor/cuda/cuda_dnn.cc:9261] Unable to register cuDNN factory: Attempting to register factory for plugin cuDNN when one has already been registered\n",
      "2024-02-25 19:17:57.817627: E external/local_xla/xla/stream_executor/cuda/cuda_fft.cc:607] Unable to register cuFFT factory: Attempting to register factory for plugin cuFFT when one has already been registered\n",
      "2024-02-25 19:17:57.818828: E external/local_xla/xla/stream_executor/cuda/cuda_blas.cc:1515] Unable to register cuBLAS factory: Attempting to register factory for plugin cuBLAS when one has already been registered\n",
      "2024-02-25 19:17:57.825866: I tensorflow/core/platform/cpu_feature_guard.cc:182] This TensorFlow binary is optimized to use available CPU instructions in performance-critical operations.\n",
      "To enable the following instructions: AVX2 FMA, in other operations, rebuild TensorFlow with the appropriate compiler flags.\n",
      "2024-02-25 19:17:58.612694: W tensorflow/compiler/tf2tensorrt/utils/py_utils.cc:38] TF-TRT Warning: Could not find TensorRT\n"
     ]
    }
   ],
   "source": [
    "import tensorflow as tf\n",
    "from tensorflow import keras\n",
    "from tensorflow.keras import layers\n",
    "from sklearn.preprocessing import MinMaxScaler\n",
    "import numpy as np"
   ]
  },
  {
   "cell_type": "code",
   "execution_count": 2,
   "id": "cd254051-013c-4616-9065-ee139066b8a7",
   "metadata": {},
   "outputs": [],
   "source": [
    "# Sample Data\n",
    "# heights = [60,62,64,66,68,70,72,74]\n",
    "# weights = [110,120,130,140,150,160,170,180]"
   ]
  },
  {
   "cell_type": "code",
   "execution_count": 3,
   "id": "17a95492-93a2-4ec5-b9b1-ff963912557f",
   "metadata": {},
   "outputs": [],
   "source": [
    "# Normalization\n",
    "# scaler = MinMaxScaler()\n",
    "# heights_normalize = scaler.fit_transform(tf.expand_dims(heights, axis=1)).squeeze()\n",
    "# weights = tf.convert_to_tensor(weights, dtype=tf.float32)"
   ]
  },
  {
   "cell_type": "code",
   "execution_count": 4,
   "id": "aa02b7ea-4c50-4ff9-b62a-bedf2ce68ad5",
   "metadata": {},
   "outputs": [],
   "source": [
    "heights = np.array([60, 62, 64, 66, 68, 70, 72, 74], dtype=float)\n",
    "weights = np.array([110, 120, 130, 140, 150, 160, 170, 180], dtype=float)"
   ]
  },
  {
   "cell_type": "code",
   "execution_count": 5,
   "id": "d4171a24-65c0-4188-b312-93ccab895a81",
   "metadata": {},
   "outputs": [],
   "source": [
    "# Create single neuron model\n",
    "model = keras.Sequential([layers.Dense(units=1, input_shape = [1])])"
   ]
  },
  {
   "cell_type": "code",
   "execution_count": 6,
   "id": "5e151901-ae5b-4d2b-8b5d-1c96a39af807",
   "metadata": {},
   "outputs": [],
   "source": [
    "# Compile of model\n",
    "model.compile(optimizer='sgd', loss='mean_squared_error')"
   ]
  },
  {
   "cell_type": "code",
   "execution_count": 7,
   "id": "be45f8b1-c75e-48b1-9b29-08d1974f1c48",
   "metadata": {},
   "outputs": [
    {
     "name": "stdout",
     "output_type": "stream",
     "text": [
      "Epoch 1/10\n",
      "1/1 [==============================] - 0s 203ms/step - loss: 53283.4805\n",
      "Epoch 2/10\n",
      "1/1 [==============================] - 0s 5ms/step - loss: 422808064.0000\n",
      "Epoch 3/10\n",
      "1/1 [==============================] - 0s 4ms/step - loss: 3365632737280.0000\n",
      "Epoch 4/10\n",
      "1/1 [==============================] - 0s 5ms/step - loss: 26791086869446656.0000\n",
      "Epoch 5/10\n",
      "1/1 [==============================] - 0s 7ms/step - loss: 213262172524921225216.0000\n",
      "Epoch 6/10\n",
      "1/1 [==============================] - 0s 4ms/step - loss: 1697607163782553457917952.0000\n",
      "Epoch 7/10\n",
      "1/1 [==============================] - 0s 9ms/step - loss: 13513280725505908956783968256.0000\n",
      "Epoch 8/10\n",
      "1/1 [==============================] - 0s 6ms/step - loss: 107568265805185206724609215299584.0000\n",
      "Epoch 9/10\n",
      "1/1 [==============================] - 0s 7ms/step - loss: 856264070800612855574532978420744192.0000\n",
      "Epoch 10/10\n",
      "1/1 [==============================] - 0s 11ms/step - loss: inf\n"
     ]
    },
    {
     "data": {
      "text/plain": [
       "<keras.src.callbacks.History at 0x7fc6a8585a20>"
      ]
     },
     "execution_count": 7,
     "metadata": {},
     "output_type": "execute_result"
    }
   ],
   "source": [
    "# Train of model\n",
    "model.fit(heights,weights, epochs=10, verbose=1)"
   ]
  },
  {
   "cell_type": "code",
   "execution_count": 8,
   "id": "0d4ef69f-0f9b-4347-a1e4-682153cd31dd",
   "metadata": {},
   "outputs": [],
   "source": [
    "# # Test the model with all input heightsabs\n",
    "# all_heights_normalize = scaler.transform(tf.expand_dims(heights, axis=1)).squeeze()\n",
    "# all_predicte_weights = model.predict(all_heights_normalize)"
   ]
  },
  {
   "cell_type": "code",
   "execution_count": 9,
   "id": "90dfde65-eacb-42f2-ba8b-69afddbd27b9",
   "metadata": {},
   "outputs": [],
   "source": [
    "heights1 = [63, 65, 67]"
   ]
  },
  {
   "cell_type": "code",
   "execution_count": 10,
   "id": "123cafaa-a20a-40e1-9dbf-04b304dde2c5",
   "metadata": {},
   "outputs": [
    {
     "name": "stdout",
     "output_type": "stream",
     "text": [
      "1/1 [==============================] - 0s 50ms/step\n"
     ]
    }
   ],
   "source": [
    "# new_heights = scaler.transform(tf.expand_dims(heights1, axis=1)).squeeze()\n",
    "new_heights = np.array(heights1)\n",
    "new_predict = model.predict(new_heights)"
   ]
  },
  {
   "cell_type": "code",
   "execution_count": 11,
   "id": "9e9deb8c-74fe-400f-9113-0850a6e8b84f",
   "metadata": {},
   "outputs": [
    {
     "name": "stdout",
     "output_type": "stream",
     "text": [
      "Height:63 inches, Predicte_weight: -6910130176403265552384.00 lbs\n",
      "Height:65 inches, Predicte_weight: -7129447596956860809216.00 lbs\n",
      "Height:67 inches, Predicte_weight: -7348765017510456066048.00 lbs\n"
     ]
    }
   ],
   "source": [
    "# all predictions\n",
    "for h, w_p in zip(heights1, new_predict):\n",
    "    print(f\"Height:{h} inches, Predicte_weight: {w_p[0]:.2f} lbs\")"
   ]
  },
  {
   "cell_type": "code",
   "execution_count": null,
   "id": "f6d59879-cacf-4797-ac61-6205d1f690a3",
   "metadata": {},
   "outputs": [],
   "source": []
  }
 ],
 "metadata": {
  "kernelspec": {
   "display_name": "Python 3 (ipykernel)",
   "language": "python",
   "name": "python3"
  },
  "language_info": {
   "codemirror_mode": {
    "name": "ipython",
    "version": 3
   },
   "file_extension": ".py",
   "mimetype": "text/x-python",
   "name": "python",
   "nbconvert_exporter": "python",
   "pygments_lexer": "ipython3",
   "version": "3.10.12"
  },
  "widgets": {
   "application/vnd.jupyter.widget-state+json": {
    "state": {},
    "version_major": 2,
    "version_minor": 0
   }
  }
 },
 "nbformat": 4,
 "nbformat_minor": 5
}
