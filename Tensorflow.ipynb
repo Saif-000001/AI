{
 "cells": [
  {
   "cell_type": "code",
   "execution_count": 11,
   "id": "7f4c051c-cdd3-4dda-9d7e-c1f682ee89af",
   "metadata": {},
   "outputs": [],
   "source": [
    "import tensorflow as tf\n",
    "from tensorflow import keras\n",
    "from tensorflow.keras import layers\n",
    "from sklearn.preprocessing import MinMaxScaler"
   ]
  },
  {
   "cell_type": "code",
   "execution_count": 12,
   "id": "cd254051-013c-4616-9065-ee139066b8a7",
   "metadata": {},
   "outputs": [],
   "source": [
    "# Sample Data\n",
    "heights = [60,62,64,66,68,70,72,74]\n",
    "weights = [110,120,130,140,150,160,170,180]"
   ]
  },
  {
   "cell_type": "code",
   "execution_count": 13,
   "id": "17a95492-93a2-4ec5-b9b1-ff963912557f",
   "metadata": {},
   "outputs": [],
   "source": [
    "# Normalization\n",
    "scaler = MinMaxScaler()\n",
    "heights_normalize = scaler.fit_transform(tf.expand_dims(heights, axis=1)).squeeze()\n",
    "weights = tf.convert_to_tensor(weights, dtype=tf.float32)"
   ]
  },
  {
   "cell_type": "code",
   "execution_count": 14,
   "id": "d4171a24-65c0-4188-b312-93ccab895a81",
   "metadata": {},
   "outputs": [],
   "source": [
    "# Create single neuron model\n",
    "model = keras.Sequential([layers.Dense(units=1, input_shape = [1])])"
   ]
  },
  {
   "cell_type": "code",
   "execution_count": 15,
   "id": "5e151901-ae5b-4d2b-8b5d-1c96a39af807",
   "metadata": {},
   "outputs": [],
   "source": [
    "# Compile of model\n",
    "model.compile(optimizer='sgd', loss='mean_squared_error')"
   ]
  },
  {
   "cell_type": "code",
   "execution_count": 16,
   "id": "be45f8b1-c75e-48b1-9b29-08d1974f1c48",
   "metadata": {},
   "outputs": [
    {
     "name": "stdout",
     "output_type": "stream",
     "text": [
      "Epoch 1/100\n"
     ]
    },
    {
     "name": "stdout",
     "output_type": "stream",
     "text": [
      "1/1 [==============================] - 0s 241ms/step - loss: 21464.9219\n",
      "Epoch 2/100\n",
      "1/1 [==============================] - 0s 4ms/step - loss: 20386.1328\n",
      "Epoch 3/100\n",
      "1/1 [==============================] - 0s 5ms/step - loss: 19361.5742\n",
      "Epoch 4/100\n",
      "1/1 [==============================] - 0s 4ms/step - loss: 18388.5195\n",
      "Epoch 5/100\n",
      "1/1 [==============================] - 0s 7ms/step - loss: 17464.3789\n",
      "Epoch 6/100\n",
      "1/1 [==============================] - 0s 7ms/step - loss: 16586.6953\n",
      "Epoch 7/100\n",
      "1/1 [==============================] - 0s 4ms/step - loss: 15753.1338\n",
      "Epoch 8/100\n",
      "1/1 [==============================] - 0s 7ms/step - loss: 14961.4766\n",
      "Epoch 9/100\n",
      "1/1 [==============================] - 0s 4ms/step - loss: 14209.6123\n",
      "Epoch 10/100\n",
      "1/1 [==============================] - 0s 5ms/step - loss: 13495.5449\n",
      "Epoch 11/100\n",
      "1/1 [==============================] - 0s 5ms/step - loss: 12817.3740\n",
      "Epoch 12/100\n",
      "1/1 [==============================] - 0s 4ms/step - loss: 12173.2949\n",
      "Epoch 13/100\n",
      "1/1 [==============================] - 0s 4ms/step - loss: 11561.5938\n",
      "Epoch 14/100\n",
      "1/1 [==============================] - 0s 6ms/step - loss: 10980.6406\n",
      "Epoch 15/100\n",
      "1/1 [==============================] - 0s 7ms/step - loss: 10428.8926\n",
      "Epoch 16/100\n",
      "1/1 [==============================] - 0s 27ms/step - loss: 9904.8818\n",
      "Epoch 17/100\n",
      "1/1 [==============================] - 0s 9ms/step - loss: 9407.2109\n",
      "Epoch 18/100\n",
      "1/1 [==============================] - 0s 7ms/step - loss: 8934.5586\n",
      "Epoch 19/100\n",
      "1/1 [==============================] - 0s 9ms/step - loss: 8485.6641\n",
      "Epoch 20/100\n",
      "1/1 [==============================] - 0s 14ms/step - loss: 8059.3369\n",
      "Epoch 21/100\n",
      "1/1 [==============================] - 0s 8ms/step - loss: 7654.4395\n",
      "Epoch 22/100\n",
      "1/1 [==============================] - 0s 6ms/step - loss: 7269.8965\n",
      "Epoch 23/100\n",
      "1/1 [==============================] - 0s 5ms/step - loss: 6904.6846\n",
      "Epoch 24/100\n",
      "1/1 [==============================] - 0s 5ms/step - loss: 6557.8301\n",
      "Epoch 25/100\n",
      "1/1 [==============================] - 0s 10ms/step - loss: 6228.4111\n",
      "Epoch 26/100\n",
      "1/1 [==============================] - 0s 6ms/step - loss: 5915.5518\n",
      "Epoch 27/100\n",
      "1/1 [==============================] - 0s 6ms/step - loss: 5618.4199\n",
      "Epoch 28/100\n",
      "1/1 [==============================] - 0s 4ms/step - loss: 5336.2241\n",
      "Epoch 29/100\n",
      "1/1 [==============================] - 0s 4ms/step - loss: 5068.2139\n",
      "Epoch 30/100\n",
      "1/1 [==============================] - 0s 7ms/step - loss: 4813.6758\n",
      "Epoch 31/100\n",
      "1/1 [==============================] - 0s 5ms/step - loss: 4571.9326\n",
      "Epoch 32/100\n",
      "1/1 [==============================] - 0s 6ms/step - loss: 4342.3413\n",
      "Epoch 33/100\n",
      "1/1 [==============================] - 0s 7ms/step - loss: 4124.2910\n",
      "Epoch 34/100\n",
      "1/1 [==============================] - 0s 7ms/step - loss: 3917.2012\n",
      "Epoch 35/100\n",
      "1/1 [==============================] - 0s 6ms/step - loss: 3720.5217\n",
      "Epoch 36/100\n",
      "1/1 [==============================] - 0s 6ms/step - loss: 3533.7280\n",
      "Epoch 37/100\n",
      "1/1 [==============================] - 0s 5ms/step - loss: 3356.3242\n",
      "Epoch 38/100\n",
      "1/1 [==============================] - 0s 6ms/step - loss: 3187.8376\n",
      "Epoch 39/100\n",
      "1/1 [==============================] - 0s 6ms/step - loss: 3027.8203\n",
      "Epoch 40/100\n",
      "1/1 [==============================] - 0s 4ms/step - loss: 2875.8467\n",
      "Epoch 41/100\n",
      "1/1 [==============================] - 0s 5ms/step - loss: 2731.5115\n",
      "Epoch 42/100\n",
      "1/1 [==============================] - 0s 4ms/step - loss: 2594.4316\n",
      "Epoch 43/100\n",
      "1/1 [==============================] - 0s 5ms/step - loss: 2464.2422\n",
      "Epoch 44/100\n",
      "1/1 [==============================] - 0s 5ms/step - loss: 2340.5967\n",
      "Epoch 45/100\n",
      "1/1 [==============================] - 0s 5ms/step - loss: 2223.1665\n",
      "Epoch 46/100\n",
      "1/1 [==============================] - 0s 5ms/step - loss: 2111.6384\n",
      "Epoch 47/100\n",
      "1/1 [==============================] - 0s 6ms/step - loss: 2005.7162\n",
      "Epoch 48/100\n",
      "1/1 [==============================] - 0s 5ms/step - loss: 1905.1177\n",
      "Epoch 49/100\n",
      "1/1 [==============================] - 0s 4ms/step - loss: 1809.5757\n",
      "Epoch 50/100\n",
      "1/1 [==============================] - 0s 6ms/step - loss: 1718.8361\n",
      "Epoch 51/100\n",
      "1/1 [==============================] - 0s 5ms/step - loss: 1632.6572\n",
      "Epoch 52/100\n",
      "1/1 [==============================] - 0s 6ms/step - loss: 1550.8096\n",
      "Epoch 53/100\n",
      "1/1 [==============================] - 0s 5ms/step - loss: 1473.0757\n",
      "Epoch 54/100\n",
      "1/1 [==============================] - 0s 5ms/step - loss: 1399.2493\n",
      "Epoch 55/100\n",
      "1/1 [==============================] - 0s 4ms/step - loss: 1329.1332\n",
      "Epoch 56/100\n",
      "1/1 [==============================] - 0s 4ms/step - loss: 1262.5413\n",
      "Epoch 57/100\n",
      "1/1 [==============================] - 0s 5ms/step - loss: 1199.2963\n",
      "Epoch 58/100\n",
      "1/1 [==============================] - 0s 5ms/step - loss: 1139.2297\n",
      "Epoch 59/100\n",
      "1/1 [==============================] - 0s 4ms/step - loss: 1082.1821\n",
      "Epoch 60/100\n",
      "1/1 [==============================] - 0s 8ms/step - loss: 1028.0016\n",
      "Epoch 61/100\n",
      "1/1 [==============================] - 0s 5ms/step - loss: 976.5439\n",
      "Epoch 62/100\n",
      "1/1 [==============================] - 0s 7ms/step - loss: 927.6725\n",
      "Epoch 63/100\n",
      "1/1 [==============================] - 0s 4ms/step - loss: 881.2571\n",
      "Epoch 64/100\n",
      "1/1 [==============================] - 0s 5ms/step - loss: 837.1743\n",
      "Epoch 65/100\n",
      "1/1 [==============================] - 0s 4ms/step - loss: 795.3069\n",
      "Epoch 66/100\n",
      "1/1 [==============================] - 0s 7ms/step - loss: 755.5433\n",
      "Epoch 67/100\n",
      "1/1 [==============================] - 0s 4ms/step - loss: 717.7780\n",
      "Epoch 68/100\n",
      "1/1 [==============================] - 0s 10ms/step - loss: 681.9106\n",
      "Epoch 69/100\n",
      "1/1 [==============================] - 0s 5ms/step - loss: 647.8451\n",
      "Epoch 70/100\n",
      "1/1 [==============================] - 0s 4ms/step - loss: 615.4916\n",
      "Epoch 71/100\n",
      "1/1 [==============================] - 0s 9ms/step - loss: 584.7640\n",
      "Epoch 72/100\n",
      "1/1 [==============================] - 0s 4ms/step - loss: 555.5803\n",
      "Epoch 73/100\n",
      "1/1 [==============================] - 0s 5ms/step - loss: 527.8629\n",
      "Epoch 74/100\n",
      "1/1 [==============================] - 0s 7ms/step - loss: 501.5381\n",
      "Epoch 75/100\n",
      "1/1 [==============================] - 0s 7ms/step - loss: 476.5359\n",
      "Epoch 76/100\n",
      "1/1 [==============================] - 0s 5ms/step - loss: 452.7900\n",
      "Epoch 77/100\n",
      "1/1 [==============================] - 0s 7ms/step - loss: 430.2372\n",
      "Epoch 78/100\n",
      "1/1 [==============================] - 0s 6ms/step - loss: 408.8173\n",
      "Epoch 79/100\n",
      "1/1 [==============================] - 0s 6ms/step - loss: 388.4738\n",
      "Epoch 80/100\n",
      "1/1 [==============================] - 0s 4ms/step - loss: 369.1521\n",
      "Epoch 81/100\n",
      "1/1 [==============================] - 0s 7ms/step - loss: 350.8008\n",
      "Epoch 82/100\n",
      "1/1 [==============================] - 0s 5ms/step - loss: 333.3715\n",
      "Epoch 83/100\n",
      "1/1 [==============================] - 0s 4ms/step - loss: 316.8176\n",
      "Epoch 84/100\n",
      "1/1 [==============================] - 0s 17ms/step - loss: 301.0956\n",
      "Epoch 85/100\n",
      "1/1 [==============================] - 0s 4ms/step - loss: 286.1630\n",
      "Epoch 86/100\n",
      "1/1 [==============================] - 0s 4ms/step - loss: 271.9803\n",
      "Epoch 87/100\n",
      "1/1 [==============================] - 0s 8ms/step - loss: 258.5100\n",
      "Epoch 88/100\n",
      "1/1 [==============================] - 0s 4ms/step - loss: 245.7160\n",
      "Epoch 89/100\n",
      "1/1 [==============================] - 0s 5ms/step - loss: 233.5647\n",
      "Epoch 90/100\n",
      "1/1 [==============================] - 0s 4ms/step - loss: 222.0238\n",
      "Epoch 91/100\n",
      "1/1 [==============================] - 0s 9ms/step - loss: 211.0620\n",
      "Epoch 92/100\n",
      "1/1 [==============================] - 0s 5ms/step - loss: 200.6507\n",
      "Epoch 93/100\n",
      "1/1 [==============================] - 0s 7ms/step - loss: 190.7621\n",
      "Epoch 94/100\n",
      "1/1 [==============================] - 0s 15ms/step - loss: 181.3700\n",
      "Epoch 95/100\n",
      "1/1 [==============================] - 0s 6ms/step - loss: 172.4493\n",
      "Epoch 96/100\n",
      "1/1 [==============================] - 0s 6ms/step - loss: 163.9763\n",
      "Epoch 97/100\n",
      "1/1 [==============================] - 0s 11ms/step - loss: 155.9288\n",
      "Epoch 98/100\n",
      "1/1 [==============================] - 0s 10ms/step - loss: 148.2851\n",
      "Epoch 99/100\n",
      "1/1 [==============================] - 0s 5ms/step - loss: 141.0251\n",
      "Epoch 100/100\n",
      "1/1 [==============================] - 0s 6ms/step - loss: 134.1294\n"
     ]
    },
    {
     "data": {
      "text/plain": [
       "<keras.src.callbacks.History at 0x7f2bc8c6d3f0>"
      ]
     },
     "execution_count": 16,
     "metadata": {},
     "output_type": "execute_result"
    }
   ],
   "source": [
    "# Train of model\n",
    "model.fit(heights_normalize,weights, epochs=100, verbose=1)"
   ]
  },
  {
   "cell_type": "code",
   "execution_count": 17,
   "id": "0d4ef69f-0f9b-4347-a1e4-682153cd31dd",
   "metadata": {},
   "outputs": [
    {
     "name": "stdout",
     "output_type": "stream",
     "text": [
      "1/1 [==============================] - 0s 46ms/step\n"
     ]
    }
   ],
   "source": [
    "# Test the model with all input heightsabs\n",
    "all_heights_normalize = scaler.transform(tf.expand_dims(heights, axis=1)).squeeze()\n",
    "all_predicte_weights = model.predict(all_heights_normalize)"
   ]
  },
  {
   "cell_type": "code",
   "execution_count": 18,
   "id": "90dfde65-eacb-42f2-ba8b-69afddbd27b9",
   "metadata": {},
   "outputs": [],
   "source": [
    "heights1 = [63, 65, 67]"
   ]
  },
  {
   "cell_type": "code",
   "execution_count": 19,
   "id": "123cafaa-a20a-40e1-9dbf-04b304dde2c5",
   "metadata": {},
   "outputs": [
    {
     "name": "stdout",
     "output_type": "stream",
     "text": [
      "1/1 [==============================] - 0s 20ms/step\n"
     ]
    }
   ],
   "source": [
    "new_heights = scaler.transform(tf.expand_dims(heights1, axis=1)).squeeze()\n",
    "new_predict = model.predict(new_heights)"
   ]
  },
  {
   "cell_type": "code",
   "execution_count": 20,
   "id": "9e9deb8c-74fe-400f-9113-0850a6e8b84f",
   "metadata": {},
   "outputs": [
    {
     "name": "stdout",
     "output_type": "stream",
     "text": [
      "Height:63 inches, Predicte_weight: 117.38 lbs\n",
      "Height:65 inches, Predicte_weight: 125.83 lbs\n",
      "Height:67 inches, Predicte_weight: 134.28 lbs\n"
     ]
    }
   ],
   "source": [
    "# all predictions\n",
    "for h, w_p in zip(heights1, new_predict):\n",
    "    print(f\"Height:{h} inches, Predicte_weight: {w_p[0]:.2f} lbs\")"
   ]
  },
  {
   "cell_type": "code",
   "execution_count": null,
   "id": "f6d59879-cacf-4797-ac61-6205d1f690a3",
   "metadata": {},
   "outputs": [],
   "source": []
  }
 ],
 "metadata": {
  "kernelspec": {
   "display_name": "Python 3 (ipykernel)",
   "language": "python",
   "name": "python3"
  },
  "language_info": {
   "codemirror_mode": {
    "name": "ipython",
    "version": 3
   },
   "file_extension": ".py",
   "mimetype": "text/x-python",
   "name": "python",
   "nbconvert_exporter": "python",
   "pygments_lexer": "ipython3",
   "version": "3.10.12"
  },
  "widgets": {
   "application/vnd.jupyter.widget-state+json": {
    "state": {},
    "version_major": 2,
    "version_minor": 0
   }
  }
 },
 "nbformat": 4,
 "nbformat_minor": 5
}
