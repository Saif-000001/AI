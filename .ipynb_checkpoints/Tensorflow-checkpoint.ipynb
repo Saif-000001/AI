{
 "cells": [
  {
   "cell_type": "code",
   "execution_count": 1,
   "id": "7f4c051c-cdd3-4dda-9d7e-c1f682ee89af",
   "metadata": {},
   "outputs": [
    {
     "name": "stderr",
     "output_type": "stream",
     "text": [
      "2024-02-24 21:15:35.068238: E external/local_xla/xla/stream_executor/cuda/cuda_dnn.cc:9261] Unable to register cuDNN factory: Attempting to register factory for plugin cuDNN when one has already been registered\n",
      "2024-02-24 21:15:35.068269: E external/local_xla/xla/stream_executor/cuda/cuda_fft.cc:607] Unable to register cuFFT factory: Attempting to register factory for plugin cuFFT when one has already been registered\n",
      "2024-02-24 21:15:35.069464: E external/local_xla/xla/stream_executor/cuda/cuda_blas.cc:1515] Unable to register cuBLAS factory: Attempting to register factory for plugin cuBLAS when one has already been registered\n",
      "2024-02-24 21:15:35.075985: I tensorflow/core/platform/cpu_feature_guard.cc:182] This TensorFlow binary is optimized to use available CPU instructions in performance-critical operations.\n",
      "To enable the following instructions: AVX2 FMA, in other operations, rebuild TensorFlow with the appropriate compiler flags.\n",
      "2024-02-24 21:15:35.854046: W tensorflow/compiler/tf2tensorrt/utils/py_utils.cc:38] TF-TRT Warning: Could not find TensorRT\n"
     ]
    }
   ],
   "source": [
    "import tensorflow as tf\n",
    "from tensorflow import keras\n",
    "from tensorflow.keras import layers\n",
    "from sklearn.preprocessing import MinMaxScaler"
   ]
  },
  {
   "cell_type": "code",
   "execution_count": 2,
   "id": "cd254051-013c-4616-9065-ee139066b8a7",
   "metadata": {},
   "outputs": [],
   "source": [
    "# Sample Data\n",
    "heights = [60,62,64,66,68,70,72,74]\n",
    "weights = [110,120,130,140,150,160,170,180]"
   ]
  },
  {
   "cell_type": "code",
   "execution_count": 3,
   "id": "17a95492-93a2-4ec5-b9b1-ff963912557f",
   "metadata": {},
   "outputs": [],
   "source": [
    "# Normalization\n",
    "scaler = MinMaxScaler()\n",
    "heights_normalize = scaler.fit_transform(tf.expand_dims(heights, axis=1)).squeeze()\n",
    "weights = tf.convert_to_tensor(weights, dtype=tf.float32)"
   ]
  },
  {
   "cell_type": "code",
   "execution_count": 4,
   "id": "d4171a24-65c0-4188-b312-93ccab895a81",
   "metadata": {},
   "outputs": [],
   "source": [
    "# Create single neuron model\n",
    "model = keras.Sequential([layers.Dense(units=1, input_shape = [1])])"
   ]
  },
  {
   "cell_type": "code",
   "execution_count": 5,
   "id": "5e151901-ae5b-4d2b-8b5d-1c96a39af807",
   "metadata": {},
   "outputs": [],
   "source": [
    "# Compile of model\n",
    "model.compile(optimizer='sgd', loss='mean_squared_error')"
   ]
  },
  {
   "cell_type": "code",
   "execution_count": 6,
   "id": "be45f8b1-c75e-48b1-9b29-08d1974f1c48",
   "metadata": {},
   "outputs": [
    {
     "name": "stdout",
     "output_type": "stream",
     "text": [
      "Epoch 1/100\n",
      "1/1 [==============================] - 0s 202ms/step - loss: 21528.3711\n",
      "Epoch 2/100\n",
      "1/1 [==============================] - 0s 5ms/step - loss: 20446.4141\n",
      "Epoch 3/100\n",
      "1/1 [==============================] - 0s 5ms/step - loss: 19418.8477\n",
      "Epoch 4/100\n",
      "1/1 [==============================] - 0s 5ms/step - loss: 18442.9375\n",
      "Epoch 5/100\n",
      "1/1 [==============================] - 0s 5ms/step - loss: 17516.0859\n",
      "Epoch 6/100\n",
      "1/1 [==============================] - 0s 5ms/step - loss: 16635.8242\n",
      "Epoch 7/100\n",
      "1/1 [==============================] - 0s 4ms/step - loss: 15799.8164\n",
      "Epoch 8/100\n",
      "1/1 [==============================] - 0s 5ms/step - loss: 15005.8320\n",
      "Epoch 9/100\n",
      "1/1 [==============================] - 0s 5ms/step - loss: 14251.7637\n",
      "Epoch 10/100\n",
      "1/1 [==============================] - 0s 6ms/step - loss: 13535.6016\n",
      "Epoch 11/100\n",
      "1/1 [==============================] - 0s 5ms/step - loss: 12855.4375\n",
      "Epoch 12/100\n",
      "1/1 [==============================] - 0s 6ms/step - loss: 12209.4668\n",
      "Epoch 13/100\n",
      "1/1 [==============================] - 0s 4ms/step - loss: 11595.9697\n",
      "Epoch 14/100\n",
      "1/1 [==============================] - 0s 3ms/step - loss: 11013.3115\n",
      "Epoch 15/100\n",
      "1/1 [==============================] - 0s 4ms/step - loss: 10459.9434\n",
      "Epoch 16/100\n",
      "1/1 [==============================] - 0s 4ms/step - loss: 9934.3926\n",
      "Epoch 17/100\n",
      "1/1 [==============================] - 0s 4ms/step - loss: 9435.2617\n",
      "Epoch 18/100\n",
      "1/1 [==============================] - 0s 6ms/step - loss: 8961.2188\n",
      "Epoch 19/100\n",
      "1/1 [==============================] - 0s 5ms/step - loss: 8511.0078\n",
      "Epoch 20/100\n",
      "1/1 [==============================] - 0s 4ms/step - loss: 8083.4282\n",
      "Epoch 21/100\n",
      "1/1 [==============================] - 0s 5ms/step - loss: 7677.3423\n",
      "Epoch 22/100\n",
      "1/1 [==============================] - 0s 4ms/step - loss: 7291.6694\n",
      "Epoch 23/100\n",
      "1/1 [==============================] - 0s 4ms/step - loss: 6925.3838\n",
      "Epoch 24/100\n",
      "1/1 [==============================] - 0s 5ms/step - loss: 6577.5107\n",
      "Epoch 25/100\n",
      "1/1 [==============================] - 0s 7ms/step - loss: 6247.1240\n",
      "Epoch 26/100\n",
      "1/1 [==============================] - 0s 6ms/step - loss: 5933.3462\n",
      "Epoch 27/100\n",
      "1/1 [==============================] - 0s 4ms/step - loss: 5635.3408\n",
      "Epoch 28/100\n",
      "1/1 [==============================] - 0s 5ms/step - loss: 5352.3159\n",
      "Epoch 29/100\n",
      "1/1 [==============================] - 0s 4ms/step - loss: 5083.5176\n",
      "Epoch 30/100\n",
      "1/1 [==============================] - 0s 5ms/step - loss: 4828.2314\n",
      "Epoch 31/100\n",
      "1/1 [==============================] - 0s 4ms/step - loss: 4585.7773\n",
      "Epoch 32/100\n",
      "1/1 [==============================] - 0s 4ms/step - loss: 4355.5117\n",
      "Epoch 33/100\n",
      "1/1 [==============================] - 0s 4ms/step - loss: 4136.8203\n",
      "Epoch 34/100\n",
      "1/1 [==============================] - 0s 4ms/step - loss: 3929.1218\n",
      "Epoch 35/100\n",
      "1/1 [==============================] - 0s 5ms/step - loss: 3731.8633\n",
      "Epoch 36/100\n",
      "1/1 [==============================] - 0s 5ms/step - loss: 3544.5203\n",
      "Epoch 37/100\n",
      "1/1 [==============================] - 0s 4ms/step - loss: 3366.5947\n",
      "Epoch 38/100\n",
      "1/1 [==============================] - 0s 4ms/step - loss: 3197.6118\n",
      "Epoch 39/100\n",
      "1/1 [==============================] - 0s 4ms/step - loss: 3037.1240\n",
      "Epoch 40/100\n",
      "1/1 [==============================] - 0s 5ms/step - loss: 2884.7026\n",
      "Epoch 41/100\n",
      "1/1 [==============================] - 0s 4ms/step - loss: 2739.9429\n",
      "Epoch 42/100\n",
      "1/1 [==============================] - 0s 4ms/step - loss: 2602.4595\n",
      "Epoch 43/100\n",
      "1/1 [==============================] - 0s 4ms/step - loss: 2471.8867\n",
      "Epoch 44/100\n",
      "1/1 [==============================] - 0s 4ms/step - loss: 2347.8767\n",
      "Epoch 45/100\n",
      "1/1 [==============================] - 0s 4ms/step - loss: 2230.1001\n",
      "Epoch 46/100\n",
      "1/1 [==============================] - 0s 3ms/step - loss: 2118.2439\n",
      "Epoch 47/100\n",
      "1/1 [==============================] - 0s 4ms/step - loss: 2012.0098\n",
      "Epoch 48/100\n",
      "1/1 [==============================] - 0s 4ms/step - loss: 1911.1149\n",
      "Epoch 49/100\n",
      "1/1 [==============================] - 0s 4ms/step - loss: 1815.2911\n",
      "Epoch 50/100\n",
      "1/1 [==============================] - 0s 4ms/step - loss: 1724.2837\n",
      "Epoch 51/100\n",
      "1/1 [==============================] - 0s 4ms/step - loss: 1637.8508\n",
      "Epoch 52/100\n",
      "1/1 [==============================] - 0s 4ms/step - loss: 1555.7620\n",
      "Epoch 53/100\n",
      "1/1 [==============================] - 0s 6ms/step - loss: 1477.7993\n",
      "Epoch 54/100\n",
      "1/1 [==============================] - 0s 5ms/step - loss: 1403.7550\n",
      "Epoch 55/100\n",
      "1/1 [==============================] - 0s 4ms/step - loss: 1333.4320\n",
      "Epoch 56/100\n",
      "1/1 [==============================] - 0s 4ms/step - loss: 1266.6436\n",
      "Epoch 57/100\n",
      "1/1 [==============================] - 0s 4ms/step - loss: 1203.2112\n",
      "Epoch 58/100\n",
      "1/1 [==============================] - 0s 4ms/step - loss: 1142.9670\n",
      "Epoch 59/100\n",
      "1/1 [==============================] - 0s 4ms/step - loss: 1085.7505\n",
      "Epoch 60/100\n",
      "1/1 [==============================] - 0s 4ms/step - loss: 1031.4095\n",
      "Epoch 61/100\n",
      "1/1 [==============================] - 0s 4ms/step - loss: 979.7997\n",
      "Epoch 62/100\n",
      "1/1 [==============================] - 0s 4ms/step - loss: 930.7838\n",
      "Epoch 63/100\n",
      "1/1 [==============================] - 0s 4ms/step - loss: 884.2308\n",
      "Epoch 64/100\n",
      "1/1 [==============================] - 0s 4ms/step - loss: 840.0173\n",
      "Epoch 65/100\n",
      "1/1 [==============================] - 0s 5ms/step - loss: 798.0255\n",
      "Epoch 66/100\n",
      "1/1 [==============================] - 0s 4ms/step - loss: 758.1441\n",
      "Epoch 67/100\n",
      "1/1 [==============================] - 0s 4ms/step - loss: 720.2666\n",
      "Epoch 68/100\n",
      "1/1 [==============================] - 0s 5ms/step - loss: 684.2926\n",
      "Epoch 69/100\n",
      "1/1 [==============================] - 0s 6ms/step - loss: 650.1261\n",
      "Epoch 70/100\n",
      "1/1 [==============================] - 0s 5ms/step - loss: 617.6766\n",
      "Epoch 71/100\n",
      "1/1 [==============================] - 0s 9ms/step - loss: 586.8574\n",
      "Epoch 72/100\n",
      "1/1 [==============================] - 0s 5ms/step - loss: 557.5869\n",
      "Epoch 73/100\n",
      "1/1 [==============================] - 0s 12ms/step - loss: 529.7872\n",
      "Epoch 74/100\n",
      "1/1 [==============================] - 0s 6ms/step - loss: 503.3839\n",
      "Epoch 75/100\n",
      "1/1 [==============================] - 0s 4ms/step - loss: 478.3072\n",
      "Epoch 76/100\n",
      "1/1 [==============================] - 0s 4ms/step - loss: 454.4905\n",
      "Epoch 77/100\n",
      "1/1 [==============================] - 0s 4ms/step - loss: 431.8703\n",
      "Epoch 78/100\n",
      "1/1 [==============================] - 0s 4ms/step - loss: 410.3862\n",
      "Epoch 79/100\n",
      "1/1 [==============================] - 0s 4ms/step - loss: 389.9818\n",
      "Epoch 80/100\n",
      "1/1 [==============================] - 0s 4ms/step - loss: 370.6020\n",
      "Epoch 81/100\n",
      "1/1 [==============================] - 0s 4ms/step - loss: 352.1957\n",
      "Epoch 82/100\n",
      "1/1 [==============================] - 0s 4ms/step - loss: 334.7143\n",
      "Epoch 83/100\n",
      "1/1 [==============================] - 0s 4ms/step - loss: 318.1106\n",
      "Epoch 84/100\n",
      "1/1 [==============================] - 0s 5ms/step - loss: 302.3411\n",
      "Epoch 85/100\n",
      "1/1 [==============================] - 0s 6ms/step - loss: 287.3633\n",
      "Epoch 86/100\n",
      "1/1 [==============================] - 0s 6ms/step - loss: 273.1379\n",
      "Epoch 87/100\n",
      "1/1 [==============================] - 0s 4ms/step - loss: 259.6269\n",
      "Epoch 88/100\n",
      "1/1 [==============================] - 0s 4ms/step - loss: 246.7944\n",
      "Epoch 89/100\n",
      "1/1 [==============================] - 0s 5ms/step - loss: 234.6064\n",
      "Epoch 90/100\n",
      "1/1 [==============================] - 0s 4ms/step - loss: 223.0300\n",
      "Epoch 91/100\n",
      "1/1 [==============================] - 0s 4ms/step - loss: 212.0352\n",
      "Epoch 92/100\n",
      "1/1 [==============================] - 0s 4ms/step - loss: 201.5921\n",
      "Epoch 93/100\n",
      "1/1 [==============================] - 0s 4ms/step - loss: 191.6733\n",
      "Epoch 94/100\n",
      "1/1 [==============================] - 0s 4ms/step - loss: 182.2525\n",
      "Epoch 95/100\n",
      "1/1 [==============================] - 0s 4ms/step - loss: 173.3046\n",
      "Epoch 96/100\n",
      "1/1 [==============================] - 0s 3ms/step - loss: 164.8056\n",
      "Epoch 97/100\n",
      "1/1 [==============================] - 0s 3ms/step - loss: 156.7333\n",
      "Epoch 98/100\n",
      "1/1 [==============================] - 0s 3ms/step - loss: 149.0660\n",
      "Epoch 99/100\n",
      "1/1 [==============================] - 0s 4ms/step - loss: 141.7833\n",
      "Epoch 100/100\n",
      "1/1 [==============================] - 0s 4ms/step - loss: 134.8662\n"
     ]
    },
    {
     "data": {
      "text/plain": [
       "<keras.src.callbacks.History at 0x7f1c3c395c00>"
      ]
     },
     "execution_count": 6,
     "metadata": {},
     "output_type": "execute_result"
    }
   ],
   "source": [
    "# Train of model\n",
    "model.fit(heights_normalize,weights, epochs=100, verbose=1)"
   ]
  },
  {
   "cell_type": "code",
   "execution_count": 7,
   "id": "0d4ef69f-0f9b-4347-a1e4-682153cd31dd",
   "metadata": {},
   "outputs": [
    {
     "name": "stdout",
     "output_type": "stream",
     "text": [
      "1/1 [==============================] - 0s 54ms/step\n"
     ]
    }
   ],
   "source": [
    "# Test the model with all input heightsabs\n",
    "all_heights_normalize = scaler.transform(tf.expand_dims(heights, axis=1)).squeeze()\n",
    "all_predicte_weights = model.predict(all_heights_normalize)"
   ]
  },
  {
   "cell_type": "code",
   "execution_count": 8,
   "id": "90dfde65-eacb-42f2-ba8b-69afddbd27b9",
   "metadata": {},
   "outputs": [],
   "source": [
    "heights1 = [63, 65, 67]"
   ]
  },
  {
   "cell_type": "code",
   "execution_count": 9,
   "id": "123cafaa-a20a-40e1-9dbf-04b304dde2c5",
   "metadata": {},
   "outputs": [
    {
     "name": "stdout",
     "output_type": "stream",
     "text": [
      "1/1 [==============================] - 0s 17ms/step\n"
     ]
    }
   ],
   "source": [
    "new_heights = scaler.transform(tf.expand_dims(heights1, axis=1)).squeeze()\n",
    "new_predict = model.predict(new_heights)"
   ]
  },
  {
   "cell_type": "code",
   "execution_count": 10,
   "id": "9e9deb8c-74fe-400f-9113-0850a6e8b84f",
   "metadata": {},
   "outputs": [
    {
     "name": "stdout",
     "output_type": "stream",
     "text": [
      "Height:63 inches, Predicte_weight: 117.45 lbs\n",
      "Height:65 inches, Predicte_weight: 125.86 lbs\n",
      "Height:67 inches, Predicte_weight: 134.27 lbs\n"
     ]
    }
   ],
   "source": [
    "# all predictions\n",
    "for h, w_p in zip(heights1, new_predict):\n",
    "    print(f\"Height:{h} inches, Predicte_weight: {w_p[0]:.2f} lbs\")"
   ]
  },
  {
   "cell_type": "code",
   "execution_count": null,
   "id": "f6d59879-cacf-4797-ac61-6205d1f690a3",
   "metadata": {},
   "outputs": [],
   "source": []
  }
 ],
 "metadata": {
  "kernelspec": {
   "display_name": "Python 3 (ipykernel)",
   "language": "python",
   "name": "python3"
  },
  "language_info": {
   "codemirror_mode": {
    "name": "ipython",
    "version": 3
   },
   "file_extension": ".py",
   "mimetype": "text/x-python",
   "name": "python",
   "nbconvert_exporter": "python",
   "pygments_lexer": "ipython3",
   "version": "3.10.12"
  },
  "widgets": {
   "application/vnd.jupyter.widget-state+json": {
    "state": {},
    "version_major": 2,
    "version_minor": 0
   }
  }
 },
 "nbformat": 4,
 "nbformat_minor": 5
}
