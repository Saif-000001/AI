{
 "cells": [
  {
   "cell_type": "code",
   "execution_count": 1,
   "id": "bc1e8f20-dc94-41a9-bd41-b40d419a535f",
   "metadata": {},
   "outputs": [
    {
     "name": "stderr",
     "output_type": "stream",
     "text": [
      "2024-02-24 23:54:00.600956: E external/local_xla/xla/stream_executor/cuda/cuda_dnn.cc:9261] Unable to register cuDNN factory: Attempting to register factory for plugin cuDNN when one has already been registered\n",
      "2024-02-24 23:54:00.600985: E external/local_xla/xla/stream_executor/cuda/cuda_fft.cc:607] Unable to register cuFFT factory: Attempting to register factory for plugin cuFFT when one has already been registered\n",
      "2024-02-24 23:54:00.602028: E external/local_xla/xla/stream_executor/cuda/cuda_blas.cc:1515] Unable to register cuBLAS factory: Attempting to register factory for plugin cuBLAS when one has already been registered\n",
      "2024-02-24 23:54:00.609741: I tensorflow/core/platform/cpu_feature_guard.cc:182] This TensorFlow binary is optimized to use available CPU instructions in performance-critical operations.\n",
      "To enable the following instructions: AVX2 FMA, in other operations, rebuild TensorFlow with the appropriate compiler flags.\n",
      "2024-02-24 23:54:01.476535: W tensorflow/compiler/tf2tensorrt/utils/py_utils.cc:38] TF-TRT Warning: Could not find TensorRT\n"
     ]
    }
   ],
   "source": [
    "# library\n",
    "import tensorflow as tf\n",
    "from tensorflow import keras\n",
    "from tensorflow.keras import layers\n",
    "from sklearn.preprocessing import MinMaxScaler"
   ]
  },
  {
   "cell_type": "code",
   "execution_count": 2,
   "id": "92bf51ad-1e25-469d-9832-f279b6c646d2",
   "metadata": {},
   "outputs": [],
   "source": [
    "# sample Data\n",
    "celcius = [60,62,64,66,68,70,72,74]\n",
    "fahrenheit = [110, 120, 130, 140, 150, 160, 170, 180]\n"
   ]
  },
  {
   "cell_type": "code",
   "execution_count": 3,
   "id": "328d19a7-9781-46a0-bd4b-7a096c7aa608",
   "metadata": {},
   "outputs": [],
   "source": [
    "# Normalization\n",
    "scaler = MinMaxScaler()\n",
    "celcius_normalization = scaler.fit_transform(tf.expand_dims(celcius, axis=1)).squeeze()\n",
    "fahrenheit = tf.convert_to_tensor(fahrenheit, dtype=tf.float32)"
   ]
  },
  {
   "cell_type": "code",
   "execution_count": 4,
   "id": "57b715b0-08df-4368-830b-7b3aedb49727",
   "metadata": {},
   "outputs": [],
   "source": [
    "# Normalization\n",
    "scaler = MinMaxScaler()\n",
    "celcius_normalization = scaler.fit_transform(tf.expand_dims(celcius, axis=1)).squeeze()\n",
    "fahrenheit = tf.convert_to_tensor(fahrenheit, dtype=tf.float32)"
   ]
  },
  {
   "cell_type": "code",
   "execution_count": 5,
   "id": "880f7ee4-a42c-4305-af07-5871b6b5b0f4",
   "metadata": {},
   "outputs": [],
   "source": [
    "# single model\n",
    "model = keras.Sequential([layers.Dense(units=1, input_shape=[1])])"
   ]
  },
  {
   "cell_type": "code",
   "execution_count": 6,
   "id": "85266009-aa12-4e0e-88be-5ef2a101fa7c",
   "metadata": {},
   "outputs": [],
   "source": [
    "# compile model \n",
    "model.compile(optimizer='sgd', loss='mean_squared_error')"
   ]
  },
  {
   "cell_type": "code",
   "execution_count": 7,
   "id": "eb5d57e1-6010-455a-b7cc-344be3ffd3fe",
   "metadata": {},
   "outputs": [
    {
     "name": "stdout",
     "output_type": "stream",
     "text": [
      "Epoch 1/100\n",
      "1/1 [==============================] - 0s 212ms/step - loss: 21317.2148\n",
      "Epoch 2/100\n",
      "1/1 [==============================] - 0s 5ms/step - loss: 20245.8008\n",
      "Epoch 3/100\n",
      "1/1 [==============================] - 0s 5ms/step - loss: 19228.2461\n",
      "Epoch 4/100\n",
      "1/1 [==============================] - 0s 6ms/step - loss: 18261.8418\n",
      "Epoch 5/100\n",
      "1/1 [==============================] - 0s 6ms/step - loss: 17344.0215\n",
      "Epoch 6/100\n",
      "1/1 [==============================] - 0s 6ms/step - loss: 16472.3379\n",
      "Epoch 7/100\n",
      "1/1 [==============================] - 0s 5ms/step - loss: 15644.4766\n",
      "Epoch 8/100\n",
      "1/1 [==============================] - 0s 6ms/step - loss: 14858.2305\n",
      "Epoch 9/100\n",
      "1/1 [==============================] - 0s 7ms/step - loss: 14111.5078\n",
      "Epoch 10/100\n",
      "1/1 [==============================] - 0s 6ms/step - loss: 13402.3242\n",
      "Epoch 11/100\n",
      "1/1 [==============================] - 0s 24ms/step - loss: 12728.7910\n",
      "Epoch 12/100\n",
      "1/1 [==============================] - 0s 8ms/step - loss: 12089.1152\n",
      "Epoch 13/100\n",
      "1/1 [==============================] - 0s 10ms/step - loss: 11481.5957\n",
      "Epoch 14/100\n",
      "1/1 [==============================] - 0s 6ms/step - loss: 10904.6182\n",
      "Epoch 15/100\n",
      "1/1 [==============================] - 0s 5ms/step - loss: 10356.6426\n",
      "Epoch 16/100\n",
      "1/1 [==============================] - 0s 5ms/step - loss: 9836.2158\n",
      "Epoch 17/100\n",
      "1/1 [==============================] - 0s 5ms/step - loss: 9341.9482\n",
      "Epoch 18/100\n",
      "1/1 [==============================] - 0s 5ms/step - loss: 8872.5293\n",
      "Epoch 19/100\n",
      "1/1 [==============================] - 0s 6ms/step - loss: 8426.7061\n",
      "Epoch 20/100\n",
      "1/1 [==============================] - 0s 4ms/step - loss: 8003.2949\n",
      "Epoch 21/100\n",
      "1/1 [==============================] - 0s 5ms/step - loss: 7601.1680\n",
      "Epoch 22/100\n",
      "1/1 [==============================] - 0s 6ms/step - loss: 7219.2559\n",
      "Epoch 23/100\n",
      "1/1 [==============================] - 0s 8ms/step - loss: 6856.5420\n",
      "Epoch 24/100\n",
      "1/1 [==============================] - 0s 6ms/step - loss: 6512.0610\n",
      "Epoch 25/100\n",
      "1/1 [==============================] - 0s 5ms/step - loss: 6184.8970\n",
      "Epoch 26/100\n",
      "1/1 [==============================] - 0s 5ms/step - loss: 5874.1787\n",
      "Epoch 27/100\n",
      "1/1 [==============================] - 0s 7ms/step - loss: 5579.0806\n",
      "Epoch 28/100\n",
      "1/1 [==============================] - 0s 5ms/step - loss: 5298.8159\n",
      "Epoch 29/100\n",
      "1/1 [==============================] - 0s 7ms/step - loss: 5032.6396\n",
      "Epoch 30/100\n",
      "1/1 [==============================] - 0s 5ms/step - loss: 4779.8442\n",
      "Epoch 31/100\n",
      "1/1 [==============================] - 0s 5ms/step - loss: 4539.7563\n",
      "Epoch 32/100\n",
      "1/1 [==============================] - 0s 5ms/step - loss: 4311.7368\n",
      "Epoch 33/100\n",
      "1/1 [==============================] - 0s 5ms/step - loss: 4095.1797\n",
      "Epoch 34/100\n",
      "1/1 [==============================] - 0s 6ms/step - loss: 3889.5083\n",
      "Epoch 35/100\n",
      "1/1 [==============================] - 0s 6ms/step - loss: 3694.1753\n",
      "Epoch 36/100\n",
      "1/1 [==============================] - 0s 5ms/step - loss: 3508.6609\n",
      "Epoch 37/100\n",
      "1/1 [==============================] - 0s 5ms/step - loss: 3332.4722\n",
      "Epoch 38/100\n",
      "1/1 [==============================] - 0s 5ms/step - loss: 3165.1396\n",
      "Epoch 39/100\n",
      "1/1 [==============================] - 0s 5ms/step - loss: 3006.2188\n",
      "Epoch 40/100\n",
      "1/1 [==============================] - 0s 5ms/step - loss: 2855.2864\n",
      "Epoch 41/100\n",
      "1/1 [==============================] - 0s 6ms/step - loss: 2711.9414\n",
      "Epoch 42/100\n",
      "1/1 [==============================] - 0s 5ms/step - loss: 2575.8015\n",
      "Epoch 43/100\n",
      "1/1 [==============================] - 0s 7ms/step - loss: 2446.5049\n",
      "Epoch 44/100\n",
      "1/1 [==============================] - 0s 5ms/step - loss: 2323.7070\n",
      "Epoch 45/100\n",
      "1/1 [==============================] - 0s 6ms/step - loss: 2207.0815\n",
      "Epoch 46/100\n",
      "1/1 [==============================] - 0s 5ms/step - loss: 2096.3184\n",
      "Epoch 47/100\n",
      "1/1 [==============================] - 0s 6ms/step - loss: 1991.1228\n",
      "Epoch 48/100\n",
      "1/1 [==============================] - 0s 6ms/step - loss: 1891.2150\n",
      "Epoch 49/100\n",
      "1/1 [==============================] - 0s 4ms/step - loss: 1796.3289\n",
      "Epoch 50/100\n",
      "1/1 [==============================] - 0s 5ms/step - loss: 1706.2123\n",
      "Epoch 51/100\n",
      "1/1 [==============================] - 0s 6ms/step - loss: 1620.6252\n",
      "Epoch 52/100\n",
      "1/1 [==============================] - 0s 5ms/step - loss: 1539.3403\n",
      "Epoch 53/100\n",
      "1/1 [==============================] - 0s 4ms/step - loss: 1462.1406\n",
      "Epoch 54/100\n",
      "1/1 [==============================] - 0s 6ms/step - loss: 1388.8215\n",
      "Epoch 55/100\n",
      "1/1 [==============================] - 0s 5ms/step - loss: 1319.1874\n",
      "Epoch 56/100\n",
      "1/1 [==============================] - 0s 5ms/step - loss: 1253.0530\n",
      "Epoch 57/100\n",
      "1/1 [==============================] - 0s 6ms/step - loss: 1190.2429\n",
      "Epoch 58/100\n",
      "1/1 [==============================] - 0s 5ms/step - loss: 1130.5897\n",
      "Epoch 59/100\n",
      "1/1 [==============================] - 0s 6ms/step - loss: 1073.9348\n",
      "Epoch 60/100\n",
      "1/1 [==============================] - 0s 4ms/step - loss: 1020.1274\n",
      "Epoch 61/100\n",
      "1/1 [==============================] - 0s 4ms/step - loss: 969.0243\n",
      "Epoch 62/100\n",
      "1/1 [==============================] - 0s 11ms/step - loss: 920.4895\n",
      "Epoch 63/100\n",
      "1/1 [==============================] - 0s 6ms/step - loss: 874.3938\n",
      "Epoch 64/100\n",
      "1/1 [==============================] - 0s 6ms/step - loss: 830.6149\n",
      "Epoch 65/100\n",
      "1/1 [==============================] - 0s 9ms/step - loss: 789.0364\n",
      "Epoch 66/100\n",
      "1/1 [==============================] - 0s 6ms/step - loss: 749.5471\n",
      "Epoch 67/100\n",
      "1/1 [==============================] - 0s 8ms/step - loss: 712.0427\n",
      "Epoch 68/100\n",
      "1/1 [==============================] - 0s 7ms/step - loss: 676.4230\n",
      "Epoch 69/100\n",
      "1/1 [==============================] - 0s 4ms/step - loss: 642.5934\n",
      "Epoch 70/100\n",
      "1/1 [==============================] - 0s 5ms/step - loss: 610.4639\n",
      "Epoch 71/100\n",
      "1/1 [==============================] - 0s 4ms/step - loss: 579.9489\n",
      "Epoch 72/100\n",
      "1/1 [==============================] - 0s 9ms/step - loss: 550.9673\n",
      "Epoch 73/100\n",
      "1/1 [==============================] - 0s 7ms/step - loss: 523.4422\n",
      "Epoch 74/100\n",
      "1/1 [==============================] - 0s 6ms/step - loss: 497.3004\n",
      "Epoch 75/100\n",
      "1/1 [==============================] - 0s 9ms/step - loss: 472.4719\n",
      "Epoch 76/100\n",
      "1/1 [==============================] - 0s 5ms/step - loss: 448.8909\n",
      "Epoch 77/100\n",
      "1/1 [==============================] - 0s 4ms/step - loss: 426.4948\n",
      "Epoch 78/100\n",
      "1/1 [==============================] - 0s 5ms/step - loss: 405.2241\n",
      "Epoch 79/100\n",
      "1/1 [==============================] - 0s 4ms/step - loss: 385.0221\n",
      "Epoch 80/100\n",
      "1/1 [==============================] - 0s 5ms/step - loss: 365.8351\n",
      "Epoch 81/100\n",
      "1/1 [==============================] - 0s 5ms/step - loss: 347.6123\n",
      "Epoch 82/100\n",
      "1/1 [==============================] - 0s 4ms/step - loss: 330.3047\n",
      "Epoch 83/100\n",
      "1/1 [==============================] - 0s 5ms/step - loss: 313.8666\n",
      "Epoch 84/100\n",
      "1/1 [==============================] - 0s 4ms/step - loss: 298.2544\n",
      "Epoch 85/100\n",
      "1/1 [==============================] - 0s 4ms/step - loss: 283.4266\n",
      "Epoch 86/100\n",
      "1/1 [==============================] - 0s 5ms/step - loss: 269.3436\n",
      "Epoch 87/100\n",
      "1/1 [==============================] - 0s 4ms/step - loss: 255.9679\n",
      "Epoch 88/100\n",
      "1/1 [==============================] - 0s 5ms/step - loss: 243.2642\n",
      "Epoch 89/100\n",
      "1/1 [==============================] - 0s 5ms/step - loss: 231.1985\n",
      "Epoch 90/100\n",
      "1/1 [==============================] - 0s 4ms/step - loss: 219.7387\n",
      "Epoch 91/100\n",
      "1/1 [==============================] - 0s 5ms/step - loss: 208.8546\n",
      "Epoch 92/100\n",
      "1/1 [==============================] - 0s 4ms/step - loss: 198.5170\n",
      "Epoch 93/100\n",
      "1/1 [==============================] - 0s 4ms/step - loss: 188.6986\n",
      "Epoch 94/100\n",
      "1/1 [==============================] - 0s 7ms/step - loss: 179.3732\n",
      "Epoch 95/100\n",
      "1/1 [==============================] - 0s 4ms/step - loss: 170.5161\n",
      "Epoch 96/100\n",
      "1/1 [==============================] - 0s 5ms/step - loss: 162.1038\n",
      "Epoch 97/100\n",
      "1/1 [==============================] - 0s 4ms/step - loss: 154.1136\n",
      "Epoch 98/100\n",
      "1/1 [==============================] - 0s 5ms/step - loss: 146.5247\n",
      "Epoch 99/100\n",
      "1/1 [==============================] - 0s 4ms/step - loss: 139.3167\n",
      "Epoch 100/100\n",
      "1/1 [==============================] - 0s 4ms/step - loss: 132.4706\n"
     ]
    },
    {
     "data": {
      "text/plain": [
       "<keras.src.callbacks.History at 0x7f06aae919c0>"
      ]
     },
     "execution_count": 7,
     "metadata": {},
     "output_type": "execute_result"
    }
   ],
   "source": [
    "# train model \n",
    "model.fit(celcius_normalization, fahrenheit, epochs=100, verbose=1)"
   ]
  },
  {
   "cell_type": "code",
   "execution_count": 8,
   "id": "3d96ea93-163e-47fa-8673-f1dcd5d12705",
   "metadata": {},
   "outputs": [],
   "source": [
    "# new temperature data\n",
    "new_data = [61,63,65,67,69]"
   ]
  },
  {
   "cell_type": "code",
   "execution_count": 9,
   "id": "a05fa0ab",
   "metadata": {},
   "outputs": [
    {
     "name": "stdout",
     "output_type": "stream",
     "text": [
      "1/1 [==============================] - 0s 57ms/step\n"
     ]
    }
   ],
   "source": [
    "# new temperature data input\n",
    "new_temperature_data_inpute_normalizetion = scaler.transform(tf.expand_dims(new_data, axis=1)).squeeze()\n",
    "new_tamperture_data = model.predict(new_temperature_data_inpute_normalizetion)"
   ]
  },
  {
   "cell_type": "code",
   "execution_count": 10,
   "id": "ddc3f9af-4de6-40cb-ac6e-7d23f12aa105",
   "metadata": {},
   "outputs": [
    {
     "ename": "SyntaxError",
     "evalue": "invalid decimal literal (4177906900.py, line 3)",
     "output_type": "error",
     "traceback": [
      "\u001b[0;36m  Cell \u001b[0;32mIn[10], line 3\u001b[0;36m\u001b[0m\n\u001b[0;31m    print(f'Data:{n_d}, Temperature:{n_t_d[0].2f}')\u001b[0m\n\u001b[0m          ^\u001b[0m\n\u001b[0;31mSyntaxError\u001b[0m\u001b[0;31m:\u001b[0m invalid decimal literal\n"
     ]
    }
   ],
   "source": [
    "# prediction output\n",
    "for n_d, n_t_d in zip(new_data, new_tamperture_data):\n",
    "    "
   ]
  },
  {
   "cell_type": "code",
   "execution_count": null,
   "id": "b523a69b-2a35-4572-a2ef-8a5e8ded1846",
   "metadata": {},
   "outputs": [],
   "source": []
  },
  {
   "cell_type": "code",
   "execution_count": null,
   "id": "0d0429de-514d-469d-9c98-ee6eedc95dc0",
   "metadata": {},
   "outputs": [],
   "source": []
  }
 ],
 "metadata": {
  "kernelspec": {
   "display_name": "Python 3 (ipykernel)",
   "language": "python",
   "name": "python3"
  },
  "language_info": {
   "codemirror_mode": {
    "name": "ipython",
    "version": 3
   },
   "file_extension": ".py",
   "mimetype": "text/x-python",
   "name": "python",
   "nbconvert_exporter": "python",
   "pygments_lexer": "ipython3",
   "version": "3.10.12"
  },
  "widgets": {
   "application/vnd.jupyter.widget-state+json": {
    "state": {},
    "version_major": 2,
    "version_minor": 0
   }
  }
 },
 "nbformat": 4,
 "nbformat_minor": 5
}
