{
 "cells": [
  {
   "cell_type": "code",
   "execution_count": 18,
   "id": "bc1e8f20-dc94-41a9-bd41-b40d419a535f",
   "metadata": {},
   "outputs": [],
   "source": [
    "# library\n",
    "import tensorflow as tf\n",
    "from tensorflow import keras\n",
    "from tensorflow.keras import layers\n",
    "from sklearn.preprocessing import MinMaxScaler"
   ]
  },
  {
   "cell_type": "code",
   "execution_count": 19,
   "id": "92bf51ad-1e25-469d-9832-f279b6c646d2",
   "metadata": {},
   "outputs": [],
   "source": [
    "# sample Data\n",
    "celcius = [60,62,64,66,68,70,72,74]\n",
    "fahrenheit = [110, 120, 130, 140, 150, 160, 170, 180]\n"
   ]
  },
  {
   "cell_type": "code",
   "execution_count": 20,
   "id": "328d19a7-9781-46a0-bd4b-7a096c7aa608",
   "metadata": {},
   "outputs": [],
   "source": [
    "# Normalization\n",
    "scaler = MinMaxScaler()\n",
    "celcius_normalization = scaler.fit_transform(tf.expand_dims(celcius, axis=1)).squeeze()\n",
    "fahrenheit = tf.convert_to_tensor(fahrenheit, dtype=tf.float32)"
   ]
  },
  {
   "cell_type": "code",
   "execution_count": 21,
   "id": "57b715b0-08df-4368-830b-7b3aedb49727",
   "metadata": {},
   "outputs": [],
   "source": [
    "# Normalization\n",
    "scaler = MinMaxScaler()\n",
    "celcius_normalization = scaler.fit_transform(tf.expand_dims(celcius, axis=1)).squeeze()\n",
    "fahrenheit = tf.convert_to_tensor(fahrenheit, dtype=tf.float32)"
   ]
  },
  {
   "cell_type": "code",
   "execution_count": 22,
   "id": "880f7ee4-a42c-4305-af07-5871b6b5b0f4",
   "metadata": {},
   "outputs": [],
   "source": [
    "# single model\n",
    "model = keras.Sequential([layers.Dense(units=1, input_shape=[1])])"
   ]
  },
  {
   "cell_type": "code",
   "execution_count": 23,
   "id": "85266009-aa12-4e0e-88be-5ef2a101fa7c",
   "metadata": {},
   "outputs": [],
   "source": [
    "# compile model \n",
    "model.compile(optimizer='sgd', loss='mean_squared_error')"
   ]
  },
  {
   "cell_type": "code",
   "execution_count": 24,
   "id": "eb5d57e1-6010-455a-b7cc-344be3ffd3fe",
   "metadata": {},
   "outputs": [
    {
     "name": "stdout",
     "output_type": "stream",
     "text": [
      "Epoch 1/100\n"
     ]
    },
    {
     "name": "stdout",
     "output_type": "stream",
     "text": [
      "1/1 [==============================] - 0s 261ms/step - loss: 21681.8398\n",
      "Epoch 2/100\n",
      "1/1 [==============================] - 0s 4ms/step - loss: 20592.2266\n",
      "Epoch 3/100\n",
      "1/1 [==============================] - 0s 8ms/step - loss: 19557.3906\n",
      "Epoch 4/100\n",
      "1/1 [==============================] - 0s 5ms/step - loss: 18574.5742\n",
      "Epoch 5/100\n",
      "1/1 [==============================] - 0s 8ms/step - loss: 17641.1641\n",
      "Epoch 6/100\n",
      "1/1 [==============================] - 0s 5ms/step - loss: 16754.6758\n",
      "Epoch 7/100\n",
      "1/1 [==============================] - 0s 7ms/step - loss: 15912.7510\n",
      "Epoch 8/100\n",
      "1/1 [==============================] - 0s 4ms/step - loss: 15113.1494\n",
      "Epoch 9/100\n",
      "1/1 [==============================] - 0s 5ms/step - loss: 14353.7422\n",
      "Epoch 10/100\n",
      "1/1 [==============================] - 0s 4ms/step - loss: 13632.5117\n",
      "Epoch 11/100\n",
      "1/1 [==============================] - 0s 5ms/step - loss: 12947.5352\n",
      "Epoch 12/100\n",
      "1/1 [==============================] - 0s 6ms/step - loss: 12296.9941\n",
      "Epoch 13/100\n",
      "1/1 [==============================] - 0s 5ms/step - loss: 11679.1523\n",
      "Epoch 14/100\n",
      "1/1 [==============================] - 0s 6ms/step - loss: 11092.3711\n",
      "Epoch 15/100\n",
      "1/1 [==============================] - 0s 4ms/step - loss: 10535.0859\n",
      "Epoch 16/100\n",
      "1/1 [==============================] - 0s 4ms/step - loss: 10005.8154\n",
      "Epoch 17/100\n",
      "1/1 [==============================] - 0s 6ms/step - loss: 9503.1494\n",
      "Epoch 18/100\n",
      "1/1 [==============================] - 0s 4ms/step - loss: 9025.7520\n",
      "Epoch 19/100\n",
      "1/1 [==============================] - 0s 6ms/step - loss: 8572.3535\n",
      "Epoch 20/100\n",
      "1/1 [==============================] - 0s 6ms/step - loss: 8141.7451\n",
      "Epoch 21/100\n",
      "1/1 [==============================] - 0s 9ms/step - loss: 7732.7842\n",
      "Epoch 22/100\n",
      "1/1 [==============================] - 0s 5ms/step - loss: 7344.3799\n",
      "Epoch 23/100\n",
      "1/1 [==============================] - 0s 11ms/step - loss: 6975.5010\n",
      "Epoch 24/100\n",
      "1/1 [==============================] - 0s 7ms/step - loss: 6625.1636\n",
      "Epoch 25/100\n",
      "1/1 [==============================] - 0s 5ms/step - loss: 6292.4375\n",
      "Epoch 26/100\n",
      "1/1 [==============================] - 0s 8ms/step - loss: 5976.4365\n",
      "Epoch 27/100\n",
      "1/1 [==============================] - 0s 6ms/step - loss: 5676.3203\n",
      "Epoch 28/100\n",
      "1/1 [==============================] - 0s 7ms/step - loss: 5391.2900\n",
      "Epoch 29/100\n",
      "1/1 [==============================] - 0s 4ms/step - loss: 5120.5879\n",
      "Epoch 30/100\n",
      "1/1 [==============================] - 0s 8ms/step - loss: 4863.4922\n",
      "Epoch 31/100\n",
      "1/1 [==============================] - 0s 4ms/step - loss: 4619.3203\n",
      "Epoch 32/100\n",
      "1/1 [==============================] - 0s 8ms/step - loss: 4387.4219\n",
      "Epoch 33/100\n",
      "1/1 [==============================] - 0s 4ms/step - loss: 4167.1797\n",
      "Epoch 34/100\n",
      "1/1 [==============================] - 0s 4ms/step - loss: 3958.0085\n",
      "Epoch 35/100\n",
      "1/1 [==============================] - 0s 5ms/step - loss: 3759.3521\n",
      "Epoch 36/100\n",
      "1/1 [==============================] - 0s 4ms/step - loss: 3570.6812\n",
      "Epoch 37/100\n",
      "1/1 [==============================] - 0s 5ms/step - loss: 3391.4937\n",
      "Epoch 38/100\n",
      "1/1 [==============================] - 0s 4ms/step - loss: 3221.3132\n",
      "Epoch 39/100\n",
      "1/1 [==============================] - 0s 4ms/step - loss: 3059.6858\n",
      "Epoch 40/100\n",
      "1/1 [==============================] - 0s 7ms/step - loss: 2906.1831\n",
      "Epoch 41/100\n",
      "1/1 [==============================] - 0s 4ms/step - loss: 2760.3955\n",
      "Epoch 42/100\n",
      "1/1 [==============================] - 0s 7ms/step - loss: 2621.9365\n",
      "Epoch 43/100\n",
      "1/1 [==============================] - 0s 4ms/step - loss: 2490.4370\n",
      "Epoch 44/100\n",
      "1/1 [==============================] - 0s 6ms/step - loss: 2365.5469\n",
      "Epoch 45/100\n",
      "1/1 [==============================] - 0s 5ms/step - loss: 2246.9333\n",
      "Epoch 46/100\n",
      "1/1 [==============================] - 0s 4ms/step - loss: 2134.2825\n",
      "Epoch 47/100\n",
      "1/1 [==============================] - 0s 8ms/step - loss: 2027.2932\n",
      "Epoch 48/100\n",
      "1/1 [==============================] - 0s 5ms/step - loss: 1925.6816\n",
      "Epoch 49/100\n",
      "1/1 [==============================] - 0s 8ms/step - loss: 1829.1772\n",
      "Epoch 50/100\n",
      "1/1 [==============================] - 0s 4ms/step - loss: 1737.5234\n",
      "Epoch 51/100\n",
      "1/1 [==============================] - 0s 10ms/step - loss: 1650.4756\n",
      "Epoch 52/100\n",
      "1/1 [==============================] - 0s 15ms/step - loss: 1567.8030\n",
      "Epoch 53/100\n",
      "1/1 [==============================] - 0s 5ms/step - loss: 1489.2850\n",
      "Epoch 54/100\n",
      "1/1 [==============================] - 0s 26ms/step - loss: 1414.7134\n",
      "Epoch 55/100\n",
      "1/1 [==============================] - 0s 7ms/step - loss: 1343.8896\n",
      "Epoch 56/100\n",
      "1/1 [==============================] - 0s 14ms/step - loss: 1276.6250\n",
      "Epoch 57/100\n",
      "1/1 [==============================] - 0s 7ms/step - loss: 1212.7412\n",
      "Epoch 58/100\n",
      "1/1 [==============================] - 0s 7ms/step - loss: 1152.0677\n",
      "Epoch 59/100\n",
      "1/1 [==============================] - 0s 8ms/step - loss: 1094.4434\n",
      "Epoch 60/100\n",
      "1/1 [==============================] - 0s 11ms/step - loss: 1039.7147\n",
      "Epoch 61/100\n",
      "1/1 [==============================] - 0s 8ms/step - loss: 987.7366\n",
      "Epoch 62/100\n",
      "1/1 [==============================] - 0s 9ms/step - loss: 938.3705\n",
      "Epoch 63/100\n",
      "1/1 [==============================] - 0s 5ms/step - loss: 891.4848\n",
      "Epoch 64/100\n",
      "1/1 [==============================] - 0s 9ms/step - loss: 846.9556\n",
      "Epoch 65/100\n",
      "1/1 [==============================] - 0s 5ms/step - loss: 804.6637\n",
      "Epoch 66/100\n",
      "1/1 [==============================] - 0s 6ms/step - loss: 764.4971\n",
      "Epoch 67/100\n",
      "1/1 [==============================] - 0s 5ms/step - loss: 726.3485\n",
      "Epoch 68/100\n",
      "1/1 [==============================] - 0s 5ms/step - loss: 690.1168\n",
      "Epoch 69/100\n",
      "1/1 [==============================] - 0s 4ms/step - loss: 655.7054\n",
      "Epoch 70/100\n",
      "1/1 [==============================] - 0s 4ms/step - loss: 623.0230\n",
      "Epoch 71/100\n",
      "1/1 [==============================] - 0s 7ms/step - loss: 591.9824\n",
      "Epoch 72/100\n",
      "1/1 [==============================] - 0s 5ms/step - loss: 562.5016\n",
      "Epoch 73/100\n",
      "1/1 [==============================] - 0s 6ms/step - loss: 534.5018\n",
      "Epoch 74/100\n",
      "1/1 [==============================] - 0s 5ms/step - loss: 507.9087\n",
      "Epoch 75/100\n",
      "1/1 [==============================] - 0s 6ms/step - loss: 482.6515\n",
      "Epoch 76/100\n",
      "1/1 [==============================] - 0s 5ms/step - loss: 458.6629\n",
      "Epoch 77/100\n",
      "1/1 [==============================] - 0s 5ms/step - loss: 435.8794\n",
      "Epoch 78/100\n",
      "1/1 [==============================] - 0s 5ms/step - loss: 414.2404\n",
      "Epoch 79/100\n",
      "1/1 [==============================] - 0s 5ms/step - loss: 393.6882\n",
      "Epoch 80/100\n",
      "1/1 [==============================] - 0s 5ms/step - loss: 374.1683\n",
      "Epoch 81/100\n",
      "1/1 [==============================] - 0s 7ms/step - loss: 355.6290\n",
      "Epoch 82/100\n",
      "1/1 [==============================] - 0s 7ms/step - loss: 338.0205\n",
      "Epoch 83/100\n",
      "1/1 [==============================] - 0s 4ms/step - loss: 321.2962\n",
      "Epoch 84/100\n",
      "1/1 [==============================] - 0s 5ms/step - loss: 305.4120\n",
      "Epoch 85/100\n",
      "1/1 [==============================] - 0s 5ms/step - loss: 290.3251\n",
      "Epoch 86/100\n",
      "1/1 [==============================] - 0s 6ms/step - loss: 275.9959\n",
      "Epoch 87/100\n",
      "1/1 [==============================] - 0s 6ms/step - loss: 262.3863\n",
      "Epoch 88/100\n",
      "1/1 [==============================] - 0s 6ms/step - loss: 249.4598\n",
      "Epoch 89/100\n",
      "1/1 [==============================] - 0s 4ms/step - loss: 237.1823\n",
      "Epoch 90/100\n",
      "1/1 [==============================] - 0s 6ms/step - loss: 225.5210\n",
      "Epoch 91/100\n",
      "1/1 [==============================] - 0s 4ms/step - loss: 214.4452\n",
      "Epoch 92/100\n",
      "1/1 [==============================] - 0s 5ms/step - loss: 203.9251\n",
      "Epoch 93/100\n",
      "1/1 [==============================] - 0s 5ms/step - loss: 193.9331\n",
      "Epoch 94/100\n",
      "1/1 [==============================] - 0s 5ms/step - loss: 184.4426\n",
      "Epoch 95/100\n",
      "1/1 [==============================] - 0s 4ms/step - loss: 175.4284\n",
      "Epoch 96/100\n",
      "1/1 [==============================] - 0s 5ms/step - loss: 166.8663\n",
      "Epoch 97/100\n",
      "1/1 [==============================] - 0s 6ms/step - loss: 158.7338\n",
      "Epoch 98/100\n",
      "1/1 [==============================] - 0s 4ms/step - loss: 151.0094\n",
      "Epoch 99/100\n",
      "1/1 [==============================] - 0s 5ms/step - loss: 143.6724\n",
      "Epoch 100/100\n",
      "1/1 [==============================] - 0s 5ms/step - loss: 136.7035\n"
     ]
    },
    {
     "data": {
      "text/plain": [
       "<keras.src.callbacks.History at 0x7fce54ea4790>"
      ]
     },
     "execution_count": 24,
     "metadata": {},
     "output_type": "execute_result"
    }
   ],
   "source": [
    "# train model \n",
    "model.fit(celcius_normalization, fahrenheit, epochs=100, verbose=1)"
   ]
  },
  {
   "cell_type": "code",
   "execution_count": 25,
   "id": "3d96ea93-163e-47fa-8673-f1dcd5d12705",
   "metadata": {},
   "outputs": [],
   "source": [
    "# new temperature data\n",
    "new_data = [61,63,65,67,69]"
   ]
  },
  {
   "cell_type": "code",
   "execution_count": 26,
   "id": "a05fa0ab",
   "metadata": {},
   "outputs": [
    {
     "name": "stdout",
     "output_type": "stream",
     "text": [
      "1/1 [==============================] - 0s 63ms/step\n"
     ]
    }
   ],
   "source": [
    "# new temperature data input\n",
    "new_temperature_data_inpute_normalizetion = scaler.transform(tf.expand_dims(new_data, axis=1)).squeeze()\n",
    "new_tamperture_data = model.predict(new_temperature_data_inpute_normalizetion)"
   ]
  },
  {
   "cell_type": "code",
   "execution_count": 27,
   "id": "ddc3f9af-4de6-40cb-ac6e-7d23f12aa105",
   "metadata": {},
   "outputs": [
    {
     "name": "stdout",
     "output_type": "stream",
     "text": [
      "Data: 61 , Tamperture: 109.30 \n",
      "Data: 63 , Tamperture: 117.62 \n",
      "Data: 65 , Tamperture: 125.94 \n",
      "Data: 67 , Tamperture: 134.26 \n",
      "Data: 69 , Tamperture: 142.58 \n"
     ]
    }
   ],
   "source": [
    "# prediction output\n",
    "for n_d, n_t_d in zip(new_data, new_tamperture_data):\n",
    "    print(f\"Data: {n_d} , Tamperture: {n_t_d[0]:.2f} \")"
   ]
  },
  {
   "cell_type": "code",
   "execution_count": null,
   "id": "b523a69b-2a35-4572-a2ef-8a5e8ded1846",
   "metadata": {},
   "outputs": [],
   "source": []
  },
  {
   "cell_type": "code",
   "execution_count": null,
   "id": "0d0429de-514d-469d-9c98-ee6eedc95dc0",
   "metadata": {},
   "outputs": [],
   "source": []
  }
 ],
 "metadata": {
  "kernelspec": {
   "display_name": "Python 3 (ipykernel)",
   "language": "python",
   "name": "python3"
  },
  "language_info": {
   "codemirror_mode": {
    "name": "ipython",
    "version": 3
   },
   "file_extension": ".py",
   "mimetype": "text/x-python",
   "name": "python",
   "nbconvert_exporter": "python",
   "pygments_lexer": "ipython3",
   "version": "3.10.12"
  },
  "widgets": {
   "application/vnd.jupyter.widget-state+json": {
    "state": {},
    "version_major": 2,
    "version_minor": 0
   }
  }
 },
 "nbformat": 4,
 "nbformat_minor": 5
}
